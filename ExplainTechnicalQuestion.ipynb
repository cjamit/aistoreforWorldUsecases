{
 "cells": [
  {
   "cell_type": "markdown",
   "id": "fe12c203-e6a6-452c-a655-afb8a03a4ff5",
   "metadata": {},
   "source": [
    "# Answer a Technical Question\n",
    "\n",
    "A tool that takes a technical question with OpenAI API, and also Ollama and responds with an explanation. This is a tool that you will be able to use yourself during the course!\n",
    "\n"
   ]
  },
  {
   "cell_type": "code",
   "execution_count": 1,
   "id": "c1070317-3ed9-4659-abe3-828943230e03",
   "metadata": {},
   "outputs": [],
   "source": [
    "# imports\n",
    "\n",
    "from dotenv import load_dotenv\n",
    "from IPython.display import Markdown, display, update_display\n",
    "from openai import OpenAI\n",
    "import ollama"
   ]
  },
  {
   "cell_type": "code",
   "execution_count": 2,
   "id": "4a456906-915a-4bfd-bb9d-57e505c5093f",
   "metadata": {},
   "outputs": [],
   "source": [
    "# constants\n",
    "\n",
    "MODEL_GPT = 'gpt-4o-mini'\n",
    "MODEL_LLAMA = 'llama3.2'"
   ]
  },
  {
   "cell_type": "code",
   "execution_count": 3,
   "id": "a8d7923c-5f28-4c30-8556-342d7c8497c1",
   "metadata": {},
   "outputs": [],
   "source": [
    "# set up environment\n",
    "\n",
    "load_dotenv()\n",
    "openai = OpenAI()\n"
   ]
  },
  {
   "cell_type": "code",
   "execution_count": 4,
   "id": "3f0d0137-52b0-47a8-81a8-11a90a010798",
   "metadata": {},
   "outputs": [],
   "source": [
    "# here is the question; type over this to ask something new\n",
    "\n",
    "question = \"\"\"\n",
    "Please explain what this code does and why:\n",
    "yield from {book.get(\"author\") for book in books if book.get(\"author\")}\n",
    "\"\"\""
   ]
  },
  {
   "cell_type": "code",
   "execution_count": 5,
   "id": "8595807b-8ae2-4e1b-95d9-e8532142e8bb",
   "metadata": {},
   "outputs": [],
   "source": [
    "# prompts\n",
    "\n",
    "system_prompt = \"You are a helpful technical tutor who answers questions about python code, software engineering, data science and LLMs\"\n",
    "user_prompt = \"Please give a detailed explanation to the following question: \" + question"
   ]
  },
  {
   "cell_type": "code",
   "execution_count": 6,
   "id": "9605cbb6-3d3f-4969-b420-7f4cae0b9328",
   "metadata": {},
   "outputs": [],
   "source": [
    "# messages\n",
    "\n",
    "messages = [\n",
    "    {\"role\": \"system\", \"content\": system_prompt},\n",
    "    {\"role\": \"user\", \"content\": user_prompt}\n",
    "]"
   ]
  },
  {
   "cell_type": "code",
   "execution_count": 7,
   "id": "60ce7000-a4a5-4cce-a261-e75ef45063b4",
   "metadata": {},
   "outputs": [
    {
     "data": {
      "text/markdown": [
       "Certainly! Let's break down the code snippet you provided: \n",
       "\n",
       "python\n",
       "yield from {book.get(\"author\") for book in books if book.get(\"author\")}\n",
       "\n",
       "\n",
       "### Breakdown:\n",
       "\n",
       "1. **Context of `yield from`:**\n",
       "   - The `yield from` statement is used within a generator function in Python. It allows you to take a generator or iterable (like a list, tuple, set, etc.) and yield all values from it, essentially delegating part of the generator’s operations to another generator.\n",
       "   - This is helpful when you want to simplify your code when dealing with nested generators or another iterable.\n",
       "\n",
       "2. **Set Comprehension:**\n",
       "   - The expression inside the braces `{}` is a set comprehension. A set comprehension is a concise way to create a set by iterating over an iterable and applying a conditional filter.\n",
       "   - In this case, it's creating a set of authors from a collection named `books`.\n",
       "\n",
       "3. **Iteration over `books`:**\n",
       "   - `for book in books` iterates over the `books` collection. It is assumed that `books` is a list (or similar iterable) containing various entries (dictionaries, in this case) where each entry represents a book.\n",
       "  \n",
       "4. **Extracting Author Names:**\n",
       "   - `book.get(\"author\")` retrieves the value associated with the key `\"author\"` from each `book` dictionary. \n",
       "   - `dict.get(key)` is a method that returns the value for `key` if it exists, or `None` if it does not. This is useful because it avoids raising a `KeyError` if `\"author\"` is not present in any of the book dictionaries.\n",
       "\n",
       "5. **Filtering Non-Existent Authors:**\n",
       "   - The condition `if book.get(\"author\")` ensures that only books with a defined author (i.e., authors that are not `None` or empty) are included in the set comprehension. This is a common pattern to filter out unwanted or invalid entries.\n",
       "\n",
       "6. **Creating a Set:**\n",
       "   - The entire expression `{book.get(\"author\") for book in books if book.get(\"author\")}` results in a set of unique authors. Sets automatically eliminate duplicate values, meaning if the same author appears in multiple books, they will only appear once in the resulting set.\n",
       "\n",
       "### Putting It All Together:\n",
       "\n",
       "The entire line of code achieves the following:\n",
       "- It collects the distinct author names from a list of book dictionaries named `books` and emits them one by one. Authors who are not specified (where the value is None or the author key does not exist) are ignored.\n",
       "- The use of `yield from` means that the result is a generator yielding each unique author, so this can be used in a generator function to produce a lazy evaluation of authors, which is memory efficient for large datasets.\n",
       "\n",
       "### Why Use This:\n",
       "\n",
       "- **Efficiency**: Using a set comprehension ensures that duplicates are removed efficiently and the code remains concise.\n",
       "- **Readability**: The structure of `yield from` with a set comprehension makes the intent clear - to gather unique authors from the books and yield them onwards.\n",
       "- **Maintainability**: This pattern separates concerns - generating the unique set of authors is done in one expression, leading to clearer and potentially more maintainable code.\n",
       "\n",
       "### Example Usage:\n",
       "\n",
       "python\n",
       "def get_authors(books):\n",
       "    yield from {book.get(\"author\") for book in books if book.get(\"author\")}\n",
       "\n",
       "# Example list of books\n",
       "books = [\n",
       "    {\"title\": \"Book 1\", \"author\": \"Author A\"},\n",
       "    {\"title\": \"Book 2\", \"author\": \"Author B\"},\n",
       "    {\"title\": \"Book 3\", \"author\": None},\n",
       "    {\"title\": \"Book 4\", \"author\": \"Author A\"},\n",
       "]\n",
       "\n",
       "# Using the generator to print unique authors\n",
       "for author in get_authors(books):\n",
       "    print(author)\n",
       "\n",
       "This would output:\n",
       "\n",
       "Author A\n",
       "Author B\n",
       "\n",
       "\n",
       "In summary, the code snippet effectively creates a generator for unique authors from a collection of books, eliminating duplicates, and handling missing authors gracefully."
      ],
      "text/plain": [
       "<IPython.core.display.Markdown object>"
      ]
     },
     "metadata": {},
     "output_type": "display_data"
    }
   ],
   "source": [
    "# Get gpt-4o-mini to answer, with streaming\n",
    "\n",
    "stream = openai.chat.completions.create(model=MODEL_GPT, messages=messages,stream=True)\n",
    "    \n",
    "response = \"\"\n",
    "display_handle = display(Markdown(\"\"), display_id=True)\n",
    "for chunk in stream:\n",
    "    response += chunk.choices[0].delta.content or ''\n",
    "    response = response.replace(\"```\",\"\").replace(\"markdown\", \"\")\n",
    "    update_display(Markdown(response), display_id=display_handle.display_id)"
   ]
  },
  {
   "cell_type": "code",
   "execution_count": null,
   "id": "8f7c8ea8-4082-4ad0-8751-3301adcf6538",
   "metadata": {},
   "outputs": [],
   "source": [
    "# Get Llama 3.2 to answer\n",
    "\n",
    "response = ollama.chat(model=MODEL_LLAMA, messages=messages)\n",
    "reply = response['message']['content']\n",
    "display(Markdown(reply))"
   ]
  },
  {
   "cell_type": "markdown",
   "id": "7e14bcdb-b928-4b14-961e-9f7d8c7335bf",
   "metadata": {},
   "source": [
    "# Congratulations!\n",
    "\n",
    "You could make it better by taking in the question using  \n",
    "`my_question = input(\"Please enter your question:\")`\n",
    "\n",
    "And then creating the prompts and making the calls interactively."
   ]
  },
  {
   "cell_type": "code",
   "execution_count": null,
   "id": "da663d73-dd2a-4fff-84df-2209cf2b330b",
   "metadata": {},
   "outputs": [],
   "source": [
    "What is meant by anthropic alhorithm?\n"
   ]
  }
 ],
 "metadata": {
  "kernelspec": {
   "display_name": "Python 3 (ipykernel)",
   "language": "python",
   "name": "python3"
  },
  "language_info": {
   "codemirror_mode": {
    "name": "ipython",
    "version": 3
   },
   "file_extension": ".py",
   "mimetype": "text/x-python",
   "name": "python",
   "nbconvert_exporter": "python",
   "pygments_lexer": "ipython3",
   "version": "3.11.13"
  }
 },
 "nbformat": 4,
 "nbformat_minor": 5
}
