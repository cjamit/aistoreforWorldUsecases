{
 "cells": [
  {
   "cell_type": "code",
   "execution_count": 4,
   "id": "4e2a9393-7767-488e-a8bf-27c12dca35bd",
   "metadata": {},
   "outputs": [],
   "source": [
    "# imports\n",
    "\n",
    "import os\n",
    "import requests\n",
    "from dotenv import load_dotenv\n",
    "from bs4 import BeautifulSoup\n",
    "from IPython.display import Markdown, display\n",
    "from openai import OpenAI\n",
    "\n",
    "# If you get an error running this cell, then please head over to the troubleshooting notebook!"
   ]
  },
  {
   "cell_type": "markdown",
   "id": "6900b2a8-6384-4316-8aaa-5e519fca4254",
   "metadata": {},
   "source": [
    "# Connecting to OpenAI (or Ollama)\n",
    "\n",
    "The next cell is where we load in the environment variables in your `.env` file and connect to OpenAI.  \n",
    "\n"
   ]
  },
  {
   "cell_type": "code",
   "execution_count": 5,
   "id": "7b87cadb-d513-4303-baee-a37b6f938e4d",
   "metadata": {},
   "outputs": [
    {
     "name": "stdout",
     "output_type": "stream",
     "text": [
      "API key found and looks good so far!\n"
     ]
    }
   ],
   "source": [
    "# Load environment variables in a file called .env\n",
    "\n",
    "load_dotenv(override=True)\n",
    "api_key = os.getenv('OPENAI_API_KEY')\n",
    "\n",
    "# Check the key\n",
    "\n",
    "if not api_key:\n",
    "    print(\"No API key was found - please head over to the troubleshooting notebook in this folder to identify & fix!\")\n",
    "elif not api_key.startswith(\"sk-proj-\"):\n",
    "    print(\"An API key was found, but it doesn't start sk-proj-; please check you're using the right key - see troubleshooting notebook\")\n",
    "elif api_key.strip() != api_key:\n",
    "    print(\"An API key was found, but it looks like it might have space or tab characters at the start or end - please remove them - see troubleshooting notebook\")\n",
    "else:\n",
    "    print(\"API key found and looks good so far!\")\n"
   ]
  },
  {
   "cell_type": "code",
   "execution_count": 6,
   "id": "019974d9-f3ad-4a8a-b5f9-0a3719aea2d3",
   "metadata": {},
   "outputs": [],
   "source": [
    "openai = OpenAI()\n",
    "\n",
    "# If this doesn't work, try Kernel menu >> Restart Kernel and Clear Outputs Of All Cells, then run the cells from the top of this notebook down.\n",
    "# If it STILL doesn't work (horrors!) then please see the Troubleshooting notebook in this folder for full instructions"
   ]
  },
  {
   "cell_type": "markdown",
   "id": "442fc84b-0815-4f40-99ab-d9a5da6bda91",
   "metadata": {},
   "source": [
    "# Let's make a quick call to a ChatGPT model to get started, as a preview!"
   ]
  },
  {
   "cell_type": "code",
   "execution_count": 8,
   "id": "a58394bf-1e45-46af-9bfd-01e24da6f49a",
   "metadata": {},
   "outputs": [
    {
     "name": "stdout",
     "output_type": "stream",
     "text": [
      "That's great! I'm here to help with any questions or topics you’d like to discuss. What would you like to know or talk about?\n"
     ]
    }
   ],
   "source": [
    "# To give you a preview -- calling OpenAI with these messages is this easy. Any problems, head over to the Troubleshooting notebook.\n",
    "\n",
    "message = \"We are having conversation with Chat GPT for the first time\"\n",
    "response = openai.chat.completions.create(model=\"gpt-4o-mini\", messages=[{\"role\":\"user\", \"content\":message}])\n",
    "print(response.choices[0].message.content)"
   ]
  },
  {
   "cell_type": "markdown",
   "id": "2aa190e5-cb31-456a-96cc-db109919cd78",
   "metadata": {},
   "source": [
    "## Execute the scrapping of the Website"
   ]
  },
  {
   "cell_type": "code",
   "execution_count": 9,
   "id": "c5e793b2-6775-426a-a139-4848291d0463",
   "metadata": {},
   "outputs": [],
   "source": [
    "# A class to represent a Webpage\n",
    "# If you're not familiar with Classes, check out the \"Intermediate Python\" notebook\n",
    "\n",
    "# Some websites need you to use proper headers when fetching them:\n",
    "headers = {\n",
    " \"User-Agent\": \"Mozilla/5.0 (Windows NT 10.0; Win64; x64) AppleWebKit/537.36 (KHTML, like Gecko) Chrome/117.0.0.0 Safari/537.36\"\n",
    "}\n",
    "\n",
    "class Website:\n",
    "\n",
    "    def __init__(self, url):\n",
    "        \"\"\"\n",
    "        Create this Website object from the given url using the BeautifulSoup library\n",
    "        \"\"\"\n",
    "        self.url = url\n",
    "        response = requests.get(url, headers=headers)\n",
    "        soup = BeautifulSoup(response.content, 'html.parser')\n",
    "        self.title = soup.title.string if soup.title else \"No title found\"\n",
    "        for irrelevant in soup.body([\"script\", \"style\", \"img\", \"input\"]):\n",
    "            irrelevant.decompose()\n",
    "        self.text = soup.body.get_text(separator=\"\\n\", strip=True)"
   ]
  },
  {
   "cell_type": "code",
   "execution_count": 14,
   "id": "2ef960cf-6dc2-4cda-afb3-b38be12f4c97",
   "metadata": {},
   "outputs": [
    {
     "name": "stdout",
     "output_type": "stream",
     "text": [
      "Apple\n",
      "Apple\n",
      "Apple\n",
      "Store\n",
      "Mac\n",
      "iPad\n",
      "iPhone\n",
      "Watch\n",
      "Vision\n",
      "AirPods\n",
      "TV & Home\n",
      "Entertainment\n",
      "Accessories\n",
      "Support\n",
      "0\n",
      "+\n",
      "iPhone\n",
      "Meet the iPhone 16 family.\n",
      "Learn more\n",
      "Shop iPhone\n",
      "Built for Apple Intelligence.\n",
      "Buy Mac or iPad for college\n",
      "with education savings\n",
      "Choose AirPods or an eligible accessory\n",
      "1\n",
      "Shop\n",
      "F1 The Movie\n",
      "Starring Brad Pitt. In theaters June 27.\n",
      "Watch the trailer\n",
      "Watch the trailer\n",
      "Get tickets\n",
      "MacBook Air\n",
      "Sky blue color.\n",
      "Sky high performance with M4.\n",
      "Learn more\n",
      "Buy\n",
      "Built for Apple Intelligence.\n",
      "iPad Pro\n",
      "Unbelievably thin. Incredibly powerful.\n",
      "Learn more\n",
      "Buy\n",
      "Built for Apple Intelligence.\n",
      "iPad Air\n",
      "Now supercharged by the M3 chip.\n",
      "Learn more\n",
      "Buy\n",
      "Built for Apple Intelligence.\n",
      "Apple Podcasts\n",
      "20 years of podcasts. 20 unforgettable shows.\n",
      "Explore the list\n",
      "Apple Trade In\n",
      "Get $170–$630 in credit when you trade in iPhone 12 or higher.\n",
      "2\n",
      "Get your estimate\n",
      "Apple Card\n",
      "Get up to 3% Daily Cash back with every purchase.\n",
      "Learn more\n",
      "Apply now\n",
      "Apply now\n",
      "Apple TV+\n",
      "FAM Gallery\n",
      "Watch now\n",
      "Strong and Calm Combos for Busy Days\n",
      "Listen now\n",
      "Seth Rogen: The Zane Lowe Interview\n",
      "Play now\n",
      "PGA TOUR Pro Golf\n",
      "Watch now\n",
      "Strength with Gregg\n",
      "Listen now\n",
      "A-List Pop\n",
      "Play now\n",
      "Balatro+\n",
      "Apple Footer\n",
      "1. Available for Qualified Purchasers only. Qualified Purchasers purchasing an eligible Mac/iPad (“Eligible Product”) with eligible AirPods/accessory (“Promotion Product”) from a Qualifying Location through September 30, 2025 will receive Promotion Savings (up to $199, not to exceed the price of the Promotion Product). Customers will be charged for all items in their cart, including the Promotion Product. Only one Promotion Product per Eligible Product per Qualified Purchaser. Offer subject to availability. While supplies last. Additional restrictions apply. View full offer terms\n",
      "here\n",
      ".\n",
      "2. Trade‑in values will vary based on the condition, year, and configuration of your eligible trade‑in device. Not all devices are eligible for credit. You must be at least the age of majority to be eligible to trade in for credit or for an Apple Gift Card. Trade‑in value may be applied toward qualifying new device purchase, or added to an Apple Gift Card. Actual value awarded is based on receipt of a qualifying device matching the description provided when estimate was made. Sales tax may be assessed on full value of a new device purchase. In‑store trade‑in requires presentation of a valid photo ID (local law may require saving this information). Offer may not be available in all stores, and may vary between in‑store and online trade‑in. Some stores may have additional requirements. Apple or its trade‑in partners reserve the right to refuse, cancel, or limit quantity of any trade‑in transaction for any reason. More details are available from Apple’s trade-in partner for trade‑in and recycling of eligible devices. Restrictions and limitations may apply.\n",
      "To access and use all Apple Card features and products available only to Apple Card users, you must add Apple Card to Wallet on an iPhone or iPad that supports and has the latest version of iOS or iPadOS. Apple Card is subject to credit approval, available only for qualifying applicants in the United States, and issued by Goldman Sachs Bank USA, Salt Lake City Branch.\n",
      "Apple Payments Services LLC, a subsidiary of Apple Inc., is a service provider of Goldman Sachs Bank USA for Apple Card and Savings accounts. Neither Apple Inc. nor Apple Payments Services LLC is a bank.\n",
      "If you reside in the U.S. territories, please call Goldman Sachs at 877-255-5923 with questions about Apple Card.\n",
      "Learn more about how Apple Card applications are evaluated at\n",
      "support.apple.com/kb/HT209218\n",
      ".\n",
      "Major League Baseball trademarks and copyrights are used with permission of MLB Advanced Media, L.P. All rights reserved.\n",
      "Apple Intelligence is available in beta on all iPhone 16 models, iPhone 15 Pro, iPhone 15 Pro Max, iPad mini (A17 Pro), and iPad and Mac models with M1 and later, with Siri and device language set to the same supported language, as part of an iOS 18, iPadOS 18, and macOS Sequoia software update. Supported languages include English, French, German, Italian, Portuguese (Brazil), Spanish, Japanese, Korean, and Chinese (Simplified). More languages are coming over the course of the year, including Vietnamese. Some features may not be available in all regions or languages.\n",
      "A subscription is required for Apple Arcade, Apple Fitness+, Apple Music, and Apple TV+.\n",
      "Features are subject to change. Some features, applications, and services may not be available in all regions or all languages.\n",
      "Shop and Learn\n",
      "Shop and Learn\n",
      "Store\n",
      "Mac\n",
      "iPad\n",
      "iPhone\n",
      "Watch\n",
      "Vision\n",
      "AirPods\n",
      "TV & Home\n",
      "AirTag\n",
      "Accessories\n",
      "Gift Cards\n",
      "Apple Wallet\n",
      "Apple Wallet\n",
      "Wallet\n",
      "Apple Card\n",
      "Apple Pay\n",
      "Apple Cash\n",
      "Account\n",
      "Account\n",
      "Manage Your Apple Account\n",
      "Apple Store Account\n",
      "iCloud.com\n",
      "Entertainment\n",
      "Entertainment\n",
      "Apple One\n",
      "Apple TV+\n",
      "Apple Music\n",
      "Apple Arcade\n",
      "Apple Fitness+\n",
      "Apple News+\n",
      "Apple Podcasts\n",
      "Apple Books\n",
      "App Store\n",
      "Apple Store\n",
      "Apple Store\n",
      "Find a Store\n",
      "Genius Bar\n",
      "Today at Apple\n",
      "Group Reservations\n",
      "Apple Camp\n",
      "Apple Store App\n",
      "Certified Refurbished\n",
      "Apple Trade In\n",
      "Financing\n",
      "Carrier Deals at Apple\n",
      "Order Status\n",
      "Shopping Help\n",
      "For Business\n",
      "For Business\n",
      "Apple and Business\n",
      "Shop for Business\n",
      "For Education\n",
      "For Education\n",
      "Apple and Education\n",
      "Shop for K-12\n",
      "Shop for College\n",
      "For Healthcare\n",
      "For Healthcare\n",
      "Apple in Healthcare\n",
      "Mac in Healthcare\n",
      "Health on Apple Watch\n",
      "Health Records on iPhone and iPad\n",
      "For Government\n",
      "For Government\n",
      "Shop for Government\n",
      "Shop for Veterans and Military\n",
      "Apple Values\n",
      "Apple Values\n",
      "Accessibility\n",
      "Education\n",
      "Environment\n",
      "Inclusion and Diversity\n",
      "Privacy\n",
      "Racial Equity and Justice\n",
      "Supply Chain Innovation\n",
      "About Apple\n",
      "About Apple\n",
      "Newsroom\n",
      "Apple Leadership\n",
      "Career Opportunities\n",
      "Investors\n",
      "Ethics & Compliance\n",
      "Events\n",
      "Contact Apple\n",
      "More ways to shop:\n",
      "Find an Apple Store\n",
      "or\n",
      "other retailer\n",
      "near you.\n",
      "Or call\n",
      "1-800-MY-APPLE\n",
      "(1-800-692-7753).\n",
      "United States\n",
      "Copyright ©\n",
      "\t\t\t\t\n",
      "\t\t\t\t2025\n",
      "\t\t\t\t Apple Inc. All rights reserved.\n",
      "Privacy Policy\n",
      "Terms of Use\n",
      "Sales and Refunds\n",
      "Legal\n",
      "Site Map\n"
     ]
    }
   ],
   "source": [
    "# Let's try one out. Change the website and add print statements to follow along.\n",
    "\n",
    "websiteDescription = Website(\"https://apple.com\")\n",
    "print(websiteDescription.title)\n",
    "print(websiteDescription.text)"
   ]
  },
  {
   "cell_type": "markdown",
   "id": "6a478a0c-2c53-48ff-869c-4d08199931e1",
   "metadata": {},
   "source": [
    "## Types of prompts\n",
    "\n",
    "You may know this already - but if not, you will get very familiar with it!\n",
    "\n",
    "Models like GPT4o have been trained to receive instructions in a particular way.\n",
    "\n",
    "They expect to receive:\n",
    "\n",
    "**A system prompt** that tells them what task they are performing and what tone they should use\n",
    "\n",
    "**A user prompt** -- the conversation starter that they should reply to"
   ]
  },
  {
   "cell_type": "code",
   "execution_count": 15,
   "id": "abdb8417-c5dc-44bc-9bee-2e059d162699",
   "metadata": {},
   "outputs": [],
   "source": [
    "# Define our system prompt - you can experiment with this later, changing the last sentence to 'Respond in markdown in Spanish.\"\n",
    "\n",
    "system_prompt = \"You are an assistant that analyzes the contents of a website \\\n",
    "and provides a short summary, ignoring text that might be navigation related. \\\n",
    "Respond in markdown.\""
   ]
  },
  {
   "cell_type": "code",
   "execution_count": 16,
   "id": "f0275b1b-7cfe-4f9d-abfa-7650d378da0c",
   "metadata": {},
   "outputs": [],
   "source": [
    "# A function that writes a User Prompt that asks for summaries of websites:\n",
    "\n",
    "def user_prompt_for(website):\n",
    "    user_prompt = f\"You are looking at a website titled {website.title}\"\n",
    "    user_prompt += \"\\nThe contents of this website is as follows; \\\n",
    "please provide a short summary of this website in markdown. \\\n",
    "If it includes news or announcements, then summarize these too.\\n\\n\"\n",
    "    user_prompt += website.text\n",
    "    return user_prompt"
   ]
  },
  {
   "cell_type": "code",
   "execution_count": 17,
   "id": "26448ec4-5c00-4204-baec-7df91d11ff2e",
   "metadata": {},
   "outputs": [
    {
     "name": "stdout",
     "output_type": "stream",
     "text": [
      "You are looking at a website titled Apple\n",
      "The contents of this website is as follows; please provide a short summary of this website in markdown. If it includes news or announcements, then summarize these too.\n",
      "\n",
      "Apple\n",
      "Apple\n",
      "Store\n",
      "Mac\n",
      "iPad\n",
      "iPhone\n",
      "Watch\n",
      "Vision\n",
      "AirPods\n",
      "TV & Home\n",
      "Entertainment\n",
      "Accessories\n",
      "Support\n",
      "0\n",
      "+\n",
      "iPhone\n",
      "Meet the iPhone 16 family.\n",
      "Learn more\n",
      "Shop iPhone\n",
      "Built for Apple Intelligence.\n",
      "Buy Mac or iPad for college\n",
      "with education savings\n",
      "Choose AirPods or an eligible accessory\n",
      "1\n",
      "Shop\n",
      "F1 The Movie\n",
      "Starring Brad Pitt. In theaters June 27.\n",
      "Watch the trailer\n",
      "Watch the trailer\n",
      "Get tickets\n",
      "MacBook Air\n",
      "Sky blue color.\n",
      "Sky high performance with M4.\n",
      "Learn more\n",
      "Buy\n",
      "Built for Apple Intelligence.\n",
      "iPad Pro\n",
      "Unbelievably thin. Incredibly powerful.\n",
      "Learn more\n",
      "Buy\n",
      "Built for Apple Intelligence.\n",
      "iPad Air\n",
      "Now supercharged by the M3 chip.\n",
      "Learn more\n",
      "Buy\n",
      "Built for Apple Intelligence.\n",
      "Apple Podcasts\n",
      "20 years of podcasts. 20 unforgettable shows.\n",
      "Explore the list\n",
      "Apple Trade In\n",
      "Get $170–$630 in credit when you trade in iPhone 12 or higher.\n",
      "2\n",
      "Get your estimate\n",
      "Apple Card\n",
      "Get up to 3% Daily Cash back with every purchase.\n",
      "Learn more\n",
      "Apply now\n",
      "Apply now\n",
      "Apple TV+\n",
      "FAM Gallery\n",
      "Watch now\n",
      "Strong and Calm Combos for Busy Days\n",
      "Listen now\n",
      "Seth Rogen: The Zane Lowe Interview\n",
      "Play now\n",
      "PGA TOUR Pro Golf\n",
      "Watch now\n",
      "Strength with Gregg\n",
      "Listen now\n",
      "A-List Pop\n",
      "Play now\n",
      "Balatro+\n",
      "Apple Footer\n",
      "1. Available for Qualified Purchasers only. Qualified Purchasers purchasing an eligible Mac/iPad (“Eligible Product”) with eligible AirPods/accessory (“Promotion Product”) from a Qualifying Location through September 30, 2025 will receive Promotion Savings (up to $199, not to exceed the price of the Promotion Product). Customers will be charged for all items in their cart, including the Promotion Product. Only one Promotion Product per Eligible Product per Qualified Purchaser. Offer subject to availability. While supplies last. Additional restrictions apply. View full offer terms\n",
      "here\n",
      ".\n",
      "2. Trade‑in values will vary based on the condition, year, and configuration of your eligible trade‑in device. Not all devices are eligible for credit. You must be at least the age of majority to be eligible to trade in for credit or for an Apple Gift Card. Trade‑in value may be applied toward qualifying new device purchase, or added to an Apple Gift Card. Actual value awarded is based on receipt of a qualifying device matching the description provided when estimate was made. Sales tax may be assessed on full value of a new device purchase. In‑store trade‑in requires presentation of a valid photo ID (local law may require saving this information). Offer may not be available in all stores, and may vary between in‑store and online trade‑in. Some stores may have additional requirements. Apple or its trade‑in partners reserve the right to refuse, cancel, or limit quantity of any trade‑in transaction for any reason. More details are available from Apple’s trade-in partner for trade‑in and recycling of eligible devices. Restrictions and limitations may apply.\n",
      "To access and use all Apple Card features and products available only to Apple Card users, you must add Apple Card to Wallet on an iPhone or iPad that supports and has the latest version of iOS or iPadOS. Apple Card is subject to credit approval, available only for qualifying applicants in the United States, and issued by Goldman Sachs Bank USA, Salt Lake City Branch.\n",
      "Apple Payments Services LLC, a subsidiary of Apple Inc., is a service provider of Goldman Sachs Bank USA for Apple Card and Savings accounts. Neither Apple Inc. nor Apple Payments Services LLC is a bank.\n",
      "If you reside in the U.S. territories, please call Goldman Sachs at 877-255-5923 with questions about Apple Card.\n",
      "Learn more about how Apple Card applications are evaluated at\n",
      "support.apple.com/kb/HT209218\n",
      ".\n",
      "Major League Baseball trademarks and copyrights are used with permission of MLB Advanced Media, L.P. All rights reserved.\n",
      "Apple Intelligence is available in beta on all iPhone 16 models, iPhone 15 Pro, iPhone 15 Pro Max, iPad mini (A17 Pro), and iPad and Mac models with M1 and later, with Siri and device language set to the same supported language, as part of an iOS 18, iPadOS 18, and macOS Sequoia software update. Supported languages include English, French, German, Italian, Portuguese (Brazil), Spanish, Japanese, Korean, and Chinese (Simplified). More languages are coming over the course of the year, including Vietnamese. Some features may not be available in all regions or languages.\n",
      "A subscription is required for Apple Arcade, Apple Fitness+, Apple Music, and Apple TV+.\n",
      "Features are subject to change. Some features, applications, and services may not be available in all regions or all languages.\n",
      "Shop and Learn\n",
      "Shop and Learn\n",
      "Store\n",
      "Mac\n",
      "iPad\n",
      "iPhone\n",
      "Watch\n",
      "Vision\n",
      "AirPods\n",
      "TV & Home\n",
      "AirTag\n",
      "Accessories\n",
      "Gift Cards\n",
      "Apple Wallet\n",
      "Apple Wallet\n",
      "Wallet\n",
      "Apple Card\n",
      "Apple Pay\n",
      "Apple Cash\n",
      "Account\n",
      "Account\n",
      "Manage Your Apple Account\n",
      "Apple Store Account\n",
      "iCloud.com\n",
      "Entertainment\n",
      "Entertainment\n",
      "Apple One\n",
      "Apple TV+\n",
      "Apple Music\n",
      "Apple Arcade\n",
      "Apple Fitness+\n",
      "Apple News+\n",
      "Apple Podcasts\n",
      "Apple Books\n",
      "App Store\n",
      "Apple Store\n",
      "Apple Store\n",
      "Find a Store\n",
      "Genius Bar\n",
      "Today at Apple\n",
      "Group Reservations\n",
      "Apple Camp\n",
      "Apple Store App\n",
      "Certified Refurbished\n",
      "Apple Trade In\n",
      "Financing\n",
      "Carrier Deals at Apple\n",
      "Order Status\n",
      "Shopping Help\n",
      "For Business\n",
      "For Business\n",
      "Apple and Business\n",
      "Shop for Business\n",
      "For Education\n",
      "For Education\n",
      "Apple and Education\n",
      "Shop for K-12\n",
      "Shop for College\n",
      "For Healthcare\n",
      "For Healthcare\n",
      "Apple in Healthcare\n",
      "Mac in Healthcare\n",
      "Health on Apple Watch\n",
      "Health Records on iPhone and iPad\n",
      "For Government\n",
      "For Government\n",
      "Shop for Government\n",
      "Shop for Veterans and Military\n",
      "Apple Values\n",
      "Apple Values\n",
      "Accessibility\n",
      "Education\n",
      "Environment\n",
      "Inclusion and Diversity\n",
      "Privacy\n",
      "Racial Equity and Justice\n",
      "Supply Chain Innovation\n",
      "About Apple\n",
      "About Apple\n",
      "Newsroom\n",
      "Apple Leadership\n",
      "Career Opportunities\n",
      "Investors\n",
      "Ethics & Compliance\n",
      "Events\n",
      "Contact Apple\n",
      "More ways to shop:\n",
      "Find an Apple Store\n",
      "or\n",
      "other retailer\n",
      "near you.\n",
      "Or call\n",
      "1-800-MY-APPLE\n",
      "(1-800-692-7753).\n",
      "United States\n",
      "Copyright ©\n",
      "\t\t\t\t\n",
      "\t\t\t\t2025\n",
      "\t\t\t\t Apple Inc. All rights reserved.\n",
      "Privacy Policy\n",
      "Terms of Use\n",
      "Sales and Refunds\n",
      "Legal\n",
      "Site Map\n"
     ]
    }
   ],
   "source": [
    "print(user_prompt_for(websiteDescription))"
   ]
  },
  {
   "cell_type": "markdown",
   "id": "ea211b5f-28e1-4a86-8e52-c0b7677cadcc",
   "metadata": {},
   "source": [
    "## Messages\n",
    "\n",
    "The API from OpenAI expects to receive messages in a particular structure.\n",
    "Many of the other APIs share this structure:\n",
    "\n",
    "```python\n",
    "[\n",
    "    {\"role\": \"system\", \"content\": \"system message goes here\"},\n",
    "    {\"role\": \"user\", \"content\": \"user message goes here\"}\n",
    "]\n",
    "```\n",
    "To give you a preview, the next 2 cells make a rather simple call - we won't stretch the mighty GPT (yet!)"
   ]
  },
  {
   "cell_type": "code",
   "execution_count": 18,
   "id": "f25dcd35-0cd0-4235-9f64-ac37ed9eaaa5",
   "metadata": {},
   "outputs": [],
   "source": [
    "messages = [\n",
    "    {\"role\": \"system\", \"content\": \"You are a fantastic and cunning assistant\"},\n",
    "    {\"role\": \"user\", \"content\": \"What is the first wonder of the world?\"}\n",
    "]"
   ]
  },
  {
   "cell_type": "code",
   "execution_count": 19,
   "id": "21ed95c5-7001-47de-a36d-1d6673b403ce",
   "metadata": {},
   "outputs": [
    {
     "name": "stdout",
     "output_type": "stream",
     "text": [
      "The first of the Seven Wonders of the Ancient World is often considered to be the Great Pyramid of Giza. Located in Egypt, it is the only one of the seven wonders that still exists today. The pyramid was built as a tomb for the Pharaoh Khufu around 2580–2560 BC and is an extraordinary feat of engineering and construction.\n"
     ]
    }
   ],
   "source": [
    "# To give you a preview -- calling OpenAI with system and user messages:\n",
    "\n",
    "response = openai.chat.completions.create(model=\"gpt-4o-mini\", messages=messages)\n",
    "print(response.choices[0].message.content)"
   ]
  },
  {
   "cell_type": "markdown",
   "id": "d06e8d78-ce4c-4b05-aa8e-17050c82bb47",
   "metadata": {},
   "source": [
    "## And now let's build useful messages for GPT-4o-mini, using a function"
   ]
  },
  {
   "cell_type": "code",
   "execution_count": 20,
   "id": "0134dfa4-8299-48b5-b444-f2a8c3403c88",
   "metadata": {},
   "outputs": [],
   "source": [
    "# See how this function creates exactly the format above\n",
    "\n",
    "def messages_for(website):\n",
    "    return [\n",
    "        {\"role\": \"system\", \"content\": system_prompt},\n",
    "        {\"role\": \"user\", \"content\": user_prompt_for(website)}\n",
    "    ]"
   ]
  },
  {
   "cell_type": "code",
   "execution_count": 21,
   "id": "36478464-39ee-485c-9f3f-6a4e458dbc9c",
   "metadata": {},
   "outputs": [
    {
     "data": {
      "text/plain": [
       "[{'role': 'system',\n",
       "  'content': 'You are an assistant that analyzes the contents of a website and provides a short summary, ignoring text that might be navigation related. Respond in markdown.'},\n",
       " {'role': 'user',\n",
       "  'content': 'You are looking at a website titled Apple\\nThe contents of this website is as follows; please provide a short summary of this website in markdown. If it includes news or announcements, then summarize these too.\\n\\nApple\\nApple\\nStore\\nMac\\niPad\\niPhone\\nWatch\\nVision\\nAirPods\\nTV & Home\\nEntertainment\\nAccessories\\nSupport\\n0\\n+\\niPhone\\nMeet the iPhone 16 family.\\nLearn more\\nShop iPhone\\nBuilt for Apple Intelligence.\\nBuy Mac or\\xa0iPad for\\xa0college\\nwith education savings\\nChoose AirPods or an eligible accessory\\n1\\nShop\\nF1 The Movie\\nStarring Brad\\xa0Pitt. In\\xa0theaters\\xa0June\\xa027.\\nWatch the trailer\\nWatch the trailer\\nGet tickets\\nMacBook Air\\nSky blue color.\\nSky high performance with M4.\\nLearn more\\nBuy\\nBuilt for Apple Intelligence.\\niPad Pro\\nUnbelievably thin. Incredibly\\xa0powerful.\\nLearn more\\nBuy\\nBuilt for Apple\\xa0Intelligence.\\niPad Air\\nNow supercharged by the M3 chip.\\nLearn more\\nBuy\\nBuilt for Apple Intelligence.\\nApple Podcasts\\n20 years of podcasts. 20 unforgettable shows.\\nExplore the list\\nApple Trade In\\nGet $170–$630 in credit when you trade in iPhone\\xa012 or higher.\\n2\\nGet your estimate\\nApple Card\\nGet up to 3% Daily\\xa0Cash back with every purchase.\\nLearn more\\nApply now\\nApply now\\nApple TV+\\nFAM Gallery\\nWatch now\\nStrong and Calm Combos for Busy Days\\nListen now\\nSeth Rogen: The Zane Lowe Interview\\nPlay now\\nPGA TOUR Pro Golf\\nWatch now\\nStrength with Gregg\\nListen now\\nA-List Pop\\nPlay now\\nBalatro+\\nApple Footer\\n1. Available for Qualified Purchasers only. Qualified Purchasers purchasing an eligible Mac/iPad (“Eligible Product”) with eligible AirPods/accessory (“Promotion Product”) from a Qualifying Location through September 30, 2025 will receive Promotion Savings (up to $199, not to exceed the price of the Promotion Product). Customers will be charged for all items in their cart, including the Promotion Product. Only one Promotion Product per Eligible Product per Qualified Purchaser. Offer subject to availability. While supplies last. Additional restrictions apply. View full offer terms\\nhere\\n.\\n2. Trade‑in values will vary based on the condition, year, and configuration of your eligible trade‑in device. Not all devices are eligible for credit. You must be at least the age of majority to be eligible to trade in for credit or for an Apple\\xa0Gift\\xa0Card. Trade‑in value may be applied toward qualifying new device purchase, or added to an Apple\\xa0Gift\\xa0Card. Actual value awarded is based on receipt of a qualifying device matching the description provided when estimate was made. Sales tax may be assessed on full value of a new device purchase. In‑store trade‑in requires presentation of a valid photo ID (local law may require saving this information). Offer may not be available in all stores, and may vary between in‑store and online trade‑in. Some stores may have additional requirements. Apple or its trade‑in partners reserve the right to refuse, cancel, or limit quantity of any trade‑in transaction for any reason. More details are available from Apple’s trade-in partner for trade‑in and recycling of eligible devices. Restrictions and limitations may\\xa0apply.\\nTo access and use all Apple\\xa0Card features and products available only to Apple\\xa0Card users, you must add Apple\\xa0Card to Wallet on an iPhone or iPad that supports and has the latest version of iOS or iPadOS. Apple\\xa0Card is subject to credit approval, available only for qualifying applicants in the United States, and issued by Goldman Sachs Bank USA, Salt Lake City Branch.\\nApple\\xa0Payments Services LLC, a subsidiary of Apple\\xa0Inc., is a service provider of Goldman Sachs Bank USA for Apple\\xa0Card and Savings accounts. Neither Apple\\xa0Inc. nor Apple\\xa0Payments Services LLC is a bank.\\nIf you reside in the U.S. territories, please call Goldman Sachs at 877-255-5923 with questions about Apple\\xa0Card.\\nLearn more about how Apple\\xa0Card applications are evaluated at\\nsupport.apple.com/kb/HT209218\\n.\\nMajor League Baseball trademarks and copyrights are used with permission of MLB Advanced Media, L.P. All rights reserved.\\nApple\\xa0Intelligence is available in beta on all iPhone\\xa016 models, iPhone\\xa015\\xa0Pro, iPhone\\xa015\\xa0Pro\\xa0Max, iPad\\xa0mini (A17\\xa0Pro), and iPad and Mac models with M1 and later, with Siri and device language set to the same supported language, as part of an iOS\\xa018, iPadOS\\xa018, and macOS\\xa0Sequoia software update. Supported languages include English, French, German, Italian, Portuguese (Brazil), Spanish, Japanese, Korean, and Chinese (Simplified). More languages are coming over the course of the year, including Vietnamese. Some features may not be available in all regions or\\xa0languages.\\nA subscription is required for Apple\\xa0Arcade, Apple\\xa0Fitness+, Apple\\xa0Music, and Apple\\xa0TV+.\\nFeatures are subject to change. Some features, applications, and services may not be available in all regions or all languages.\\nShop and Learn\\nShop and Learn\\nStore\\nMac\\niPad\\niPhone\\nWatch\\nVision\\nAirPods\\nTV & Home\\nAirTag\\nAccessories\\nGift Cards\\nApple Wallet\\nApple Wallet\\nWallet\\nApple\\xa0Card\\nApple\\xa0Pay\\nApple\\xa0Cash\\nAccount\\nAccount\\nManage Your Apple Account\\nApple Store Account\\niCloud.com\\nEntertainment\\nEntertainment\\nApple\\xa0One\\nApple\\xa0TV+\\nApple\\xa0Music\\nApple\\xa0Arcade\\nApple\\xa0Fitness+\\nApple\\xa0News+\\nApple Podcasts\\nApple\\xa0Books\\nApp\\xa0Store\\nApple Store\\nApple Store\\nFind a Store\\nGenius Bar\\nToday at Apple\\nGroup Reservations\\nApple Camp\\nApple Store App\\nCertified Refurbished\\nApple\\xa0Trade\\xa0In\\nFinancing\\nCarrier Deals at Apple\\nOrder Status\\nShopping Help\\nFor Business\\nFor Business\\nApple and Business\\nShop for Business\\nFor Education\\nFor Education\\nApple and Education\\nShop for K-12\\nShop for College\\nFor Healthcare\\nFor Healthcare\\nApple in Healthcare\\nMac in Healthcare\\nHealth on Apple\\xa0Watch\\nHealth Records on iPhone and iPad\\nFor Government\\nFor Government\\nShop for Government\\nShop for Veterans and Military\\nApple Values\\nApple Values\\nAccessibility\\nEducation\\nEnvironment\\nInclusion and Diversity\\nPrivacy\\nRacial Equity and Justice\\nSupply Chain Innovation\\nAbout Apple\\nAbout Apple\\nNewsroom\\nApple Leadership\\nCareer Opportunities\\nInvestors\\nEthics & Compliance\\nEvents\\nContact Apple\\nMore ways to shop:\\nFind an Apple Store\\nor\\nother retailer\\nnear you.\\nOr call\\n1-800-MY-APPLE\\n(1-800-692-7753).\\nUnited States\\nCopyright ©\\n\\t\\t\\t\\t\\n\\t\\t\\t\\t2025\\n\\t\\t\\t\\t Apple Inc. All rights reserved.\\nPrivacy Policy\\nTerms of Use\\nSales and Refunds\\nLegal\\nSite Map'}]"
      ]
     },
     "execution_count": 21,
     "metadata": {},
     "output_type": "execute_result"
    }
   ],
   "source": [
    "# Try this out, and then try for a few more websites\n",
    "\n",
    "messages_for(websiteDescription)"
   ]
  },
  {
   "cell_type": "markdown",
   "id": "16f49d46-bf55-4c3e-928f-68fc0bf715b0",
   "metadata": {},
   "source": [
    "## Put the practice to test now and execute the function to summarize the content of a website"
   ]
  },
  {
   "cell_type": "code",
   "execution_count": 22,
   "id": "905b9919-aba7-45b5-ae65-81b3d1d78e34",
   "metadata": {},
   "outputs": [],
   "source": [
    "# And now: call the OpenAI API. You will get very familiar with this!\n",
    "\n",
    "def summarize(url):\n",
    "    website = Website(url)\n",
    "    response = openai.chat.completions.create(\n",
    "        model = \"gpt-4o-mini\",\n",
    "        messages = messages_for(website)\n",
    "    )\n",
    "    return response.choices[0].message.content"
   ]
  },
  {
   "cell_type": "code",
   "execution_count": 23,
   "id": "05e38d41-dfa4-4b20-9c96-c46ea75d9fb5",
   "metadata": {},
   "outputs": [
    {
     "data": {
      "text/plain": [
       "'# Apple Website Summary\\n\\nThe Apple website showcases its latest products, including the **iPhone 16 family**, **MacBook Air** in sky blue, and updated **iPad** models featuring the M3 and M4 chips. Users can explore the educational savings available for Mac and iPad purchases along with promotions for trading in eligible devices, offering credits ranging from $170 to $630.\\n\\n## Highlights:\\n- **New Product Announcements**:\\n  - **iPhone 16**: Introduced with enhancements leveraging Apple Intelligence.\\n  - **MacBook Air**: Now available in a new sky blue color with high performance thanks to the M4 chip.\\n  - **iPad Pro and iPad Air**: Both models boast incredible power, the latter being supercharged by the M3 chip.\\n\\n- **Apple Entertainment**:\\n  - Promotion for **F1 The Movie** featuring Brad Pitt, with a trailer available and tickets on sale.\\n  - Celebrates **20 years of podcasts** on Apple Podcasts with a curated list of shows.\\n\\n- **Apple Card Benefits**: Users can earn up to 3% Daily Cash back on purchases.\\n\\nAdditional information on features, offers, and restrictions is available throughout the site, particularly relating to product purchases and promotions.\\n\\nFor further details on Apple products, services, or the current promotions, visitors are encouraged to browse the site.'"
      ]
     },
     "execution_count": 23,
     "metadata": {},
     "output_type": "execute_result"
    }
   ],
   "source": [
    "summarize(\"https://apple.com\")"
   ]
  },
  {
   "cell_type": "code",
   "execution_count": 24,
   "id": "3d926d59-450e-4609-92ba-2d6f244f1342",
   "metadata": {},
   "outputs": [],
   "source": [
    "# A function to display this nicely in the Jupyter output, using markdown\n",
    "\n",
    "def display_summary(url):\n",
    "    summary = summarize(url)\n",
    "    display(Markdown(summary))\n",
    "    #display(summary)"
   ]
  },
  {
   "cell_type": "code",
   "execution_count": 25,
   "id": "3018853a-445f-41ff-9560-d925d1774b2f",
   "metadata": {},
   "outputs": [
    {
     "data": {
      "text/markdown": [
       "# Apple Website Summary\n",
       "\n",
       "The Apple website offers an overview of its product offerings, including the latest iPhone models, Mac, iPad, Apple Watch, and accessories. \n",
       "\n",
       "## Key Highlights:\n",
       "\n",
       "- **iPhone 16 Family**: The website features the new iPhone 16 lineup, promoting its advanced capabilities.\n",
       "  \n",
       "- **Mac & iPad Promotions**: There are educational discounts available for students purchasing Macs or iPads alongside AirPods and eligible accessories.\n",
       "\n",
       "- **New Product Features**:\n",
       "  - **MacBook Air**: Introduced in a new sky blue color with superior performance powered by the M4 chip.\n",
       "  - **iPad Pro & iPad Air**: Both models are highlighted for their thin design and increased power efficiency, with the iPad Air equipped with the M3 chip.\n",
       "\n",
       "- **Apple Podcasts**: Celebrating 20 years of podcasts, the site mentions a curated list of 20 memorable shows.\n",
       "\n",
       "- **Trade-In Program**: Users can trade in their iPhones from the 12 model or higher for credits ranging from $170 to $630, encouraging device upgrades.\n",
       "\n",
       "- **Apple Card**: Offers up to 3% Daily Cash back on purchases, with specific application conditions noted.\n",
       "\n",
       "- **Upcoming Entertainment Releases**:\n",
       "  - Promotion for *F1 The Movie*, featuring Brad Pitt, scheduled for release on June 27.\n",
       "\n",
       "This summary highlights the main products and promotions without focusing on navigation elements or customer service sections."
      ],
      "text/plain": [
       "<IPython.core.display.Markdown object>"
      ]
     },
     "metadata": {},
     "output_type": "display_data"
    }
   ],
   "source": [
    "display_summary(\"https://apple.com\")"
   ]
  },
  {
   "cell_type": "markdown",
   "id": "b3bcf6f4-adce-45e9-97ad-d9a5d7a3a624",
   "metadata": {},
   "source": [
    "# Let's try more websites\n",
    "\n",
    "Note that this will only work on websites that can be scraped using this simplistic approach.\n",
    "\n",
    "Websites that are rendered with Javascript, like React apps, won't show up. See the community-contributions folder for a Selenium implementation that gets around this. You'll need to read up on installing Selenium (ask ChatGPT!)\n",
    "\n",
    "Also Websites protected with CloudFront (and similar) may give 403 errors - many thanks Andy J for pointing this out.\n",
    "\n",
    "But many websites will work just fine!"
   ]
  },
  {
   "cell_type": "code",
   "execution_count": 26,
   "id": "45d83403-a24c-44b5-84ac-961449b4008f",
   "metadata": {},
   "outputs": [
    {
     "data": {
      "text/markdown": [
       "# Spotify - Web Player: Music for Everyone\n",
       "\n",
       "Spotify's Web Player offers users a convenient platform to listen to music across various genres, playlists, and podcasts. The service is accessible from any web browser, allowing users to enjoy their favorite tracks without needing to download additional software. The website emphasizes user-friendly navigation and personalized music recommendations, making it simple for everyone to discover new content.\n",
       "\n",
       "## Key Features:\n",
       "- **Diverse Music Library**: Access to millions of songs and playlists.\n",
       "- **Custom Playlists**: Users can create and share their playlists.\n",
       "- **Podcasts**: A wide selection of podcasts available for streaming.\n",
       "- **Personalization**: Tailored music recommendations based on user preferences.\n",
       "\n",
       "No specific news or announcements were highlighted on the website at the time of the analysis."
      ],
      "text/plain": [
       "<IPython.core.display.Markdown object>"
      ]
     },
     "metadata": {},
     "output_type": "display_data"
    }
   ],
   "source": [
    "display_summary(\"https://spotify.com\")"
   ]
  },
  {
   "cell_type": "code",
   "execution_count": 27,
   "id": "75e9fd40-b354-4341-991e-863ef2e59db7",
   "metadata": {},
   "outputs": [
    {
     "data": {
      "text/markdown": [
       "# Summary of \"Access Denied\" Website\n",
       "\n",
       "The website indicates that access to \"http://www2.hm.com/\" is restricted, and users do not have permission to view its contents on the server. A reference number is provided for tracking the error.\n",
       "\n",
       "## Key Points:\n",
       "- Users are denied access to the specified site.\n",
       "- A reference code is included for further inquiries.\n",
       "- No news or announcements are present due to the access restriction."
      ],
      "text/plain": [
       "<IPython.core.display.Markdown object>"
      ]
     },
     "metadata": {},
     "output_type": "display_data"
    }
   ],
   "source": [
    "display_summary(\"https://www.cloudflare.com/\")"
   ]
  },
  {
   "cell_type": "markdown",
   "id": "c951be1a-7f1b-448f-af1f-845978e47e2c",
   "metadata": {},
   "source": [
    "<table style=\"margin: 0; text-align: left;\">\n",
    "    <tr>\n",
    "        <td style=\"width: 150px; height: 150px; vertical-align: middle;\">\n",
    "            <img src=\"../business.jpg\" width=\"150\" height=\"150\" style=\"display: block;\" />\n",
    "        </td>\n",
    "        <td>\n",
    "            <h2 style=\"color:#181;\">Business applications</h2>\n",
    "            <span style=\"color:#181;\">In this exercise, you experienced calling the Cloud API of a Frontier Model (a leading model at the frontier of AI) for the first time. We will be using APIs like OpenAI at many stages in the course, in addition to building our own LLMs.\n",
    "\n",
    "More specifically, we've applied this to Summarization - a classic Gen AI use case to make a summary. This can be applied to any business vertical - summarizing the news, summarizing financial performance, summarizing a resume in a cover letter - the applications are limitless. Consider how you could apply Summarization in your business, and try prototyping a solution.</span>\n",
    "        </td>\n",
    "    </tr>\n",
    "</table>\n",
    "\n",
    "<table style=\"margin: 0; text-align: left;\">\n",
    "    <tr>\n",
    "        <td style=\"width: 150px; height: 150px; vertical-align: middle;\">\n",
    "            <img src=\"../important.jpg\" width=\"150\" height=\"150\" style=\"display: block;\" />\n",
    "        </td>\n",
    "        <td>\n",
    "            <h2 style=\"color:#900;\">Before you continue - now try yourself</h2>\n",
    "            <span style=\"color:#900;\">Use the cell below to make your own simple commercial example. Stick with the summarization use case for now. Here's an idea: write something that will take the contents of an email, and will suggest an appropriate short subject line for the email. That's the kind of feature that might be built into a commercial email tool.</span>\n",
    "        </td>\n",
    "    </tr>\n",
    "</table>"
   ]
  },
  {
   "cell_type": "code",
   "execution_count": null,
   "id": "00743dac-0e70-45b7-879a-d7293a6f68a6",
   "metadata": {},
   "outputs": [],
   "source": [
    "# Step 1: Create your prompts\n",
    "\n",
    "system_prompt = \"something here\"\n",
    "user_prompt = \"\"\"\n",
    "    Lots of text\n",
    "    Can be pasted here\n",
    "\"\"\"\n",
    "\n",
    "# Step 2: Make the messages list\n",
    "\n",
    "messages = [] # fill this in\n",
    "\n",
    "# Step 3: Call OpenAI\n",
    "\n",
    "response =\n",
    "\n",
    "# Step 4: print the result\n",
    "\n",
    "print("
   ]
  },
  {
   "cell_type": "markdown",
   "id": "36ed9f14-b349-40e9-a42c-b367e77f8bda",
   "metadata": {},
   "source": [
    "## An extra exercise for those who enjoy web scraping\n",
    "\n",
    "You may notice that if you try `display_summary(\"https://openai.com\")` - it doesn't work! That's because OpenAI has a fancy website that uses Javascript. There are many ways around this that some of you might be familiar with. For example, Selenium is a hugely popular framework that runs a browser behind the scenes, renders the page, and allows you to query it. If you have experience with Selenium, Playwright or similar, then feel free to improve the Website class to use them. In the community-contributions folder, you'll find an example Selenium solution from a student (thank you!)"
   ]
  },
  {
   "cell_type": "markdown",
   "id": "eeab24dc-5f90-4570-b542-b0585aca3eb6",
   "metadata": {},
   "source": [
    "# Sharing your code\n",
    "\n",
    "I'd love it if you share your code afterwards so I can share it with others! You'll notice that some students have already made changes (including a Selenium implementation) which you will find in the community-contributions folder. If you'd like add your changes to that folder, submit a Pull Request with your new versions in that folder and I'll merge your changes.\n",
    "\n",
    "If you're not an expert with git (and I am not!) then GPT has given some nice instructions on how to submit a Pull Request. It's a bit of an involved process, but once you've done it once it's pretty clear. As a pro-tip: it's best if you clear the outputs of your Jupyter notebooks (Edit >> Clean outputs of all cells, and then Save) for clean notebooks.\n",
    "\n",
    "Here are good instructions courtesy of an AI friend:  \n",
    "https://chatgpt.com/share/677a9cb5-c64c-8012-99e0-e06e88afd293"
   ]
  },
  {
   "cell_type": "code",
   "execution_count": null,
   "id": "f4484fcf-8b39-4c3f-9674-37970ed71988",
   "metadata": {},
   "outputs": [],
   "source": []
  }
 ],
 "metadata": {
  "kernelspec": {
   "display_name": "Python 3 (ipykernel)",
   "language": "python",
   "name": "python3"
  },
  "language_info": {
   "codemirror_mode": {
    "name": "ipython",
    "version": 3
   },
   "file_extension": ".py",
   "mimetype": "text/x-python",
   "name": "python",
   "nbconvert_exporter": "python",
   "pygments_lexer": "ipython3",
   "version": "3.11.13"
  }
 },
 "nbformat": 4,
 "nbformat_minor": 5
}
